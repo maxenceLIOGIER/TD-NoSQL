{
 "cells": [
  {
   "cell_type": "markdown",
   "metadata": {},
   "source": [
    "# OrientDB tutorial"
   ]
  },
  {
   "cell_type": "markdown",
   "metadata": {},
   "source": [
    "## Prerequisites"
   ]
  },
  {
   "cell_type": "markdown",
   "metadata": {},
   "source": [
    "### Documentation\n",
    "\n",
    "You will find all documentation for :\n",
    "* [OrientDB SQL reference](http://www.orientdb.com/docs/last/SQL-Functions.html)\n",
    "* [Orientdb python client](http://orientdb.com/docs/last/PyOrient-Client.html#working-with-the-client)"
   ]
  },
  {
   "cell_type": "markdown",
   "metadata": {},
   "source": [
    "## Import libraries"
   ]
  },
  {
   "cell_type": "code",
   "execution_count": 1,
   "metadata": {},
   "outputs": [],
   "source": [
    "import pyorient"
   ]
  },
  {
   "cell_type": "code",
   "execution_count": 2,
   "metadata": {},
   "outputs": [],
   "source": [
    "ROOT_PASSWORD = \"root\"\n",
    "client = pyorient.OrientDB(\"localhost\", 2424)\n",
    "session_id = client.connect(\"root\", ROOT_PASSWORD)"
   ]
  },
  {
   "cell_type": "code",
   "execution_count": 3,
   "metadata": {},
   "outputs": [
    {
     "name": "stdout",
     "output_type": "stream",
     "text": [
      "{{'databases': {}}}\n"
     ]
    }
   ],
   "source": [
    "print(client.db_list())"
   ]
  },
  {
   "cell_type": "markdown",
   "metadata": {},
   "source": [
    "## I. Quick start"
   ]
  },
  {
   "cell_type": "markdown",
   "metadata": {},
   "source": [
    "### Creating the database"
   ]
  },
  {
   "cell_type": "markdown",
   "metadata": {},
   "source": [
    "**Q:** Create a database `gods` as a `GRAPH_DATABASE` in `MEMORY_STORAGE_TYPE`. \n",
    "\n",
    "We will use it to store relationships between Greek deities."
   ]
  },
  {
   "cell_type": "code",
   "execution_count": 4,
   "metadata": {},
   "outputs": [],
   "source": [
    "client.db_create(\"gods\", pyorient.DB_TYPE_GRAPH, pyorient.STORAGE_TYPE_MEMORY)"
   ]
  },
  {
   "cell_type": "markdown",
   "metadata": {},
   "source": [
    "**Q:** Connect your pyorient client to the `gods` database."
   ]
  },
  {
   "cell_type": "code",
   "execution_count": 5,
   "metadata": {},
   "outputs": [
    {
     "data": {
      "text/plain": [
       "[<pyorient.otypes.OrientCluster at 0x262bb2b16a0>,\n",
       " <pyorient.otypes.OrientCluster at 0x262bc421860>,\n",
       " <pyorient.otypes.OrientCluster at 0x262bc421a20>,\n",
       " <pyorient.otypes.OrientCluster at 0x262bc421978>,\n",
       " <pyorient.otypes.OrientCluster at 0x262bc2c82b0>,\n",
       " <pyorient.otypes.OrientCluster at 0x262bc42bfd0>,\n",
       " <pyorient.otypes.OrientCluster at 0x262bc42bf28>,\n",
       " <pyorient.otypes.OrientCluster at 0x262bc430cf8>,\n",
       " <pyorient.otypes.OrientCluster at 0x262bc4383c8>,\n",
       " <pyorient.otypes.OrientCluster at 0x262bc441748>,\n",
       " <pyorient.otypes.OrientCluster at 0x262bc441780>,\n",
       " <pyorient.otypes.OrientCluster at 0x262bc4417b8>,\n",
       " <pyorient.otypes.OrientCluster at 0x262bc4417f0>,\n",
       " <pyorient.otypes.OrientCluster at 0x262bc441828>,\n",
       " <pyorient.otypes.OrientCluster at 0x262bc441860>,\n",
       " <pyorient.otypes.OrientCluster at 0x262bc441898>,\n",
       " <pyorient.otypes.OrientCluster at 0x262bc4418d0>,\n",
       " <pyorient.otypes.OrientCluster at 0x262bc441908>,\n",
       " <pyorient.otypes.OrientCluster at 0x262bc441940>,\n",
       " <pyorient.otypes.OrientCluster at 0x262bc3f83c8>,\n",
       " <pyorient.otypes.OrientCluster at 0x262bc3f8080>,\n",
       " <pyorient.otypes.OrientCluster at 0x262bc441978>,\n",
       " <pyorient.otypes.OrientCluster at 0x262bc4419b0>,\n",
       " <pyorient.otypes.OrientCluster at 0x262bc4419e8>,\n",
       " <pyorient.otypes.OrientCluster at 0x262bc441a20>,\n",
       " <pyorient.otypes.OrientCluster at 0x262bc441a58>,\n",
       " <pyorient.otypes.OrientCluster at 0x262bc441a90>,\n",
       " <pyorient.otypes.OrientCluster at 0x262bc441ac8>,\n",
       " <pyorient.otypes.OrientCluster at 0x262bc441b00>,\n",
       " <pyorient.otypes.OrientCluster at 0x262bc441b38>,\n",
       " <pyorient.otypes.OrientCluster at 0x262bc441b70>,\n",
       " <pyorient.otypes.OrientCluster at 0x262bc441ba8>,\n",
       " <pyorient.otypes.OrientCluster at 0x262bc441be0>]"
      ]
     },
     "execution_count": 5,
     "metadata": {},
     "output_type": "execute_result"
    }
   ],
   "source": [
    "client.db_open(\"gods\", \"root\", ROOT_PASSWORD)"
   ]
  },
  {
   "cell_type": "markdown",
   "metadata": {},
   "source": [
    "**Q:** You should now be able to launch OrientDB queries through the Python client with the [command()](http://orientdb.com/docs/last/PyOrient-Client-Command.html) function. \n",
    "\n",
    "You should think of OrientDB as a Graph-Document database for the following questions. Each vertex and edge will contain information on it inside a JSON document.\n",
    "\n",
    "Create a new Vertex with content `{name: 'Zeus', symbol: 'thunder'}`. The [CREATE VERTEX : Create a vertex using JSON content](http://orientdb.com/docs/last/SQL-Create-Vertex.html) doc page should help you."
   ]
  },
  {
   "cell_type": "code",
   "execution_count": 6,
   "metadata": {},
   "outputs": [
    {
     "data": {
      "text/plain": [
       "[<pyorient.otypes.OrientRecord at 0x262bc3f8208>]"
      ]
     },
     "execution_count": 6,
     "metadata": {},
     "output_type": "execute_result"
    }
   ],
   "source": [
    "client.command(\"CREATE VERTEX CONTENT {name: 'Zeus', symbol: 'thunder'}\")"
   ]
  },
  {
   "cell_type": "markdown",
   "metadata": {},
   "source": [
    "You have created a VERTEX in the previous question. The VERTEX is a [class](https://orientdb.com/docs/last/Tutorial-Classes.html) of OrientDB which defines a record that can be linked to others through EDGE instances.\n",
    "\n",
    "You can find all VERTEX created in the database with a SQL command on the `V` table, like `SELECT * FROM V`. \n",
    "\n",
    "**Q:** Print all current vertices in `gods`, it should only have `Zeus` though for now."
   ]
  },
  {
   "cell_type": "code",
   "execution_count": 7,
   "metadata": {},
   "outputs": [
    {
     "name": "stdout",
     "output_type": "stream",
     "text": [
      "{'@V':{'name': 'Zeus', 'symbol': 'thunder'},'version':1,'rid':'#9:0'}\n"
     ]
    }
   ],
   "source": [
    "for vertex in client.command(\"SELECT FROM V\"):\n",
    "    print(vertex)"
   ]
  },
  {
   "cell_type": "markdown",
   "metadata": {},
   "source": [
    "**Q:** Create new vertices with content : \n",
    "```\n",
    "{name:Héra, symbol:tiara}\n",
    "{name:Poséidon, symbol:trident}\n",
    "{name:Athena, symbol:helmet}\n",
    "{name:Arès, symbol:weapons} \n",
    "```"
   ]
  },
  {
   "cell_type": "code",
   "execution_count": 8,
   "metadata": {},
   "outputs": [
    {
     "data": {
      "text/plain": [
       "[<pyorient.otypes.OrientRecord at 0x262bc460f98>]"
      ]
     },
     "execution_count": 8,
     "metadata": {},
     "output_type": "execute_result"
    }
   ],
   "source": [
    "client.command(\"CREATE VERTEX CONTENT {name: 'Héra', symbol: 'tiara'}\")\n",
    "client.command(\"CREATE VERTEX CONTENT {name: 'Poséidon', symbol: 'trident'}\")\n",
    "client.command(\"CREATE VERTEX CONTENT {name: 'Athena', symbol: 'helmet'}\")\n",
    "client.command(\"CREATE VERTEX CONTENT {name: 'Arès', symbol: 'weapons'}\")"
   ]
  },
  {
   "cell_type": "markdown",
   "metadata": {},
   "source": [
    "**Q:** Display all vertices with name = `Arès`"
   ]
  },
  {
   "cell_type": "code",
   "execution_count": 9,
   "metadata": {},
   "outputs": [
    {
     "name": "stdout",
     "output_type": "stream",
     "text": [
      "{'@V':{'name': 'Arès', 'symbol': 'weapons'},'version':1,'rid':'#13:0'}\n"
     ]
    }
   ],
   "source": [
    "for vertex in client.command(\"SELECT FROM V WHERE name = 'Arès'\"):\n",
    "    print(vertex)"
   ]
  },
  {
   "cell_type": "markdown",
   "metadata": {},
   "source": [
    "**Q:** Create an EDGE from `Zeus` to `Poséidon` with the content `{kind: 'sibling'}"
   ]
  },
  {
   "cell_type": "code",
   "execution_count": 10,
   "metadata": {},
   "outputs": [
    {
     "data": {
      "text/plain": [
       "[<pyorient.otypes.OrientRecord at 0x262bc460f28>]"
      ]
     },
     "execution_count": 10,
     "metadata": {},
     "output_type": "execute_result"
    }
   ],
   "source": [
    "client.command(\"CREATE EDGE FROM (SELECT FROM V WHERE name = 'Zeus') TO (SELECT FROM V WHERE name = 'Poséidon') CONTENT {kind: 'sibling'}\")"
   ]
  },
  {
   "cell_type": "markdown",
   "metadata": {},
   "source": [
    "**Q:** Redisplay all vertices, discuss."
   ]
  },
  {
   "cell_type": "code",
   "execution_count": 11,
   "metadata": {},
   "outputs": [
    {
     "name": "stdout",
     "output_type": "stream",
     "text": [
      "{'@V':{'name': 'Zeus', 'symbol': 'thunder', 'out_': <pyorient.otypes.OrientBinaryObject object at 0x00000262BC469978>},'version':2,'rid':'#9:0'}\n",
      "{'@V':{'name': 'Héra', 'symbol': 'tiara'},'version':1,'rid':'#10:0'}\n",
      "{'@V':{'name': 'Poséidon', 'symbol': 'trident', 'in_': <pyorient.otypes.OrientBinaryObject object at 0x00000262BC469C18>},'version':2,'rid':'#11:0'}\n",
      "{'@V':{'name': 'Athena', 'symbol': 'helmet'},'version':1,'rid':'#12:0'}\n",
      "{'@V':{'name': 'Arès', 'symbol': 'weapons'},'version':1,'rid':'#13:0'}\n"
     ]
    }
   ],
   "source": [
    "for vertex in client.command(\"SELECT FROM V\"):\n",
    "    print(vertex)"
   ]
  },
  {
   "cell_type": "markdown",
   "metadata": {},
   "source": [
    "**Q:** Display all edges. They are contained in the class `E`"
   ]
  },
  {
   "cell_type": "code",
   "execution_count": 12,
   "metadata": {},
   "outputs": [
    {
     "name": "stdout",
     "output_type": "stream",
     "text": [
      "{'@E':{'kind': 'sibling', 'out': <pyorient.otypes.OrientRecordLink object at 0x00000262BC469860>, 'in': <pyorient.otypes.OrientRecordLink object at 0x00000262BC469A90>},'version':1,'rid':'#21:0'}\n"
     ]
    }
   ],
   "source": [
    "for edge in client.command(\"SELECT FROM E\"):\n",
    "    print(edge)"
   ]
  },
  {
   "cell_type": "markdown",
   "metadata": {},
   "source": [
    "Two fields on vertices have appeared, containing the outgoing (out_) and incoming (in_) links.\n",
    "\n",
    "At the edge level, two fields point to the original (out) and destination (in) vertices.\n",
    "\n",
    "**Q:** Lets create some more edges :\n",
    "\n",
    "* Zeus > Héra (sibling)\n",
    "* Zeus > Arès (father)\n",
    "* Zeus > Athena (father)\n",
    "* Héra > Arès (mother)\n",
    "* Héra > Zeus (sibling)\n",
    "* Poséidon > Zeus (sibling)\n",
    "\n",
    "_Hint 1 :_ check [the CREATE EDGE doc page](http://orientdb.com/docs/last/SQL-Create-Edge.html) to find an example for creating edges on vertices using subqueries so you can run queries to fetch the vertices before creating an edge in between.\n",
    "\n",
    "_Hint 2 :_ after you have found the command to create edges between vertices with sub-queries, you should be well-versed enough in Python to create a list of all edges in the question, and loop the command on each element of the list to create all edges in one go =)"
   ]
  },
  {
   "cell_type": "code",
   "execution_count": 13,
   "metadata": {},
   "outputs": [
    {
     "data": {
      "text/plain": [
       "[<pyorient.otypes.OrientRecord at 0x262bc469048>]"
      ]
     },
     "execution_count": 13,
     "metadata": {},
     "output_type": "execute_result"
    }
   ],
   "source": [
    "client.command(\"CREATE EDGE FROM (SELECT FROM V WHERE name = 'Zeus') TO (SELECT FROM V WHERE name = 'Héra') CONTENT {kind: 'sibling'}\")\n",
    "client.command(\"CREATE EDGE FROM (SELECT FROM V WHERE name = 'Zeus') TO (SELECT FROM V WHERE name = 'Arès') CONTENT {kind: 'father'}\")\n",
    "client.command(\"CREATE EDGE FROM (SELECT FROM V WHERE name = 'Zeus') TO (SELECT FROM V WHERE name = 'Athena') CONTENT {kind: 'father'}\")\n",
    "client.command(\"CREATE EDGE FROM (SELECT FROM V WHERE name = 'Héra') TO (SELECT FROM V WHERE name = 'Arès') CONTENT {kind: 'mother'}\")\n",
    "client.command(\"CREATE EDGE FROM (SELECT FROM V WHERE name = 'Héra') TO (SELECT FROM V WHERE name = 'Zeus') CONTENT {kind: 'sibling'}\")\n",
    "client.command(\"CREATE EDGE FROM (SELECT FROM V WHERE name = 'Poséidon') TO (SELECT FROM V WHERE name = 'Zeus') CONTENT {kind: 'sibling'}\")"
   ]
  },
  {
   "cell_type": "code",
   "execution_count": 16,
   "metadata": {},
   "outputs": [
    {
     "name": "stdout",
     "output_type": "stream",
     "text": [
      "{'@E':{'kind': 'sibling', 'out': <pyorient.otypes.OrientRecordLink object at 0x00000262BCFBF160>, 'in': <pyorient.otypes.OrientRecordLink object at 0x00000262BCFBF128>},'version':1,'rid':'#21:0'}\n",
      "{'@E':{'kind': 'sibling', 'out': <pyorient.otypes.OrientRecordLink object at 0x00000262BCFBF4A8>, 'in': <pyorient.otypes.OrientRecordLink object at 0x00000262BCFBFA20>},'version':1,'rid':'#22:0'}\n",
      "{'@E':{'kind': 'father', 'out': <pyorient.otypes.OrientRecordLink object at 0x00000262BCFBF9B0>, 'in': <pyorient.otypes.OrientRecordLink object at 0x00000262BCFBF438>},'version':1,'rid':'#23:0'}\n",
      "{'@E':{'kind': 'father', 'out': <pyorient.otypes.OrientRecordLink object at 0x00000262BCFBF5C0>, 'in': <pyorient.otypes.OrientRecordLink object at 0x00000262BCFBF7F0>},'version':1,'rid':'#24:0'}\n",
      "{'@E':{'kind': 'mother', 'out': <pyorient.otypes.OrientRecordLink object at 0x00000262BCFBF5F8>, 'in': <pyorient.otypes.OrientRecordLink object at 0x00000262BCFBFCF8>},'version':1,'rid':'#25:0'}\n",
      "{'@E':{'kind': 'sibling', 'out': <pyorient.otypes.OrientRecordLink object at 0x00000262BCFC3080>, 'in': <pyorient.otypes.OrientRecordLink object at 0x00000262BCFC3160>},'version':1,'rid':'#26:0'}\n",
      "{'@E':{'kind': 'sibling', 'out': <pyorient.otypes.OrientRecordLink object at 0x00000262BCFC32E8>, 'in': <pyorient.otypes.OrientRecordLink object at 0x00000262BCFC33C8>},'version':1,'rid':'#27:0'}\n"
     ]
    }
   ],
   "source": [
    "for edge in client.command(\"SELECT FROM E\"):\n",
    "    print(edge)"
   ]
  },
  {
   "cell_type": "markdown",
   "metadata": {},
   "source": [
    "### Looking for data"
   ]
  },
  {
   "cell_type": "markdown",
   "metadata": {},
   "source": [
    "**Q:** Using [out()](http://orientdb.com/docs/last/Tutorial-Working-with-graphs.html#querying-graphs) function, display all vertices connected and outgoing from Zeus.\n",
    "\n",
    "You should use the EXPAND() special function to transform the vertex collection in the result-set by expanding it, making the results more readable."
   ]
  },
  {
   "cell_type": "code",
   "execution_count": 14,
   "metadata": {},
   "outputs": [
    {
     "name": "stdout",
     "output_type": "stream",
     "text": [
      "{'@V':{'name': 'Poséidon', 'symbol': 'trident', 'in_': <pyorient.otypes.OrientBinaryObject object at 0x00000262BC469D68>, 'out_': <pyorient.otypes.OrientBinaryObject object at 0x00000262BC469C88>},'version':3,'rid':'#11:0'}\n",
      "{'@V':{'out_': <pyorient.otypes.OrientBinaryObject object at 0x00000262BC469588>, 'name': 'Héra', 'symbol': 'tiara', 'in_': <pyorient.otypes.OrientBinaryObject object at 0x00000262BC469F28>},'version':4,'rid':'#10:0'}\n",
      "{'@V':{'in_': <pyorient.otypes.OrientBinaryObject object at 0x00000262BC46E2B0>, 'name': 'Arès', 'symbol': 'weapons'},'version':3,'rid':'#13:0'}\n",
      "{'@V':{'name': 'Athena', 'symbol': 'helmet', 'in_': <pyorient.otypes.OrientBinaryObject object at 0x00000262BC46E518>},'version':2,'rid':'#12:0'}\n"
     ]
    }
   ],
   "source": [
    "for vertex in client.command(\"SELECT EXPAND(out()) FROM V WHERE name = 'Zeus'\"):\n",
    "    print(vertex)"
   ]
  },
  {
   "cell_type": "markdown",
   "metadata": {},
   "source": [
    "**Q:** Display all vertices which got a father (the vertices which are the destination of an arc whose kind attribute is father).\n",
    "\n",
    "_Hint: You can notice that we use the field `in` the arc, and not the function `in()` which applies to vertices._"
   ]
  },
  {
   "cell_type": "code",
   "execution_count": 19,
   "metadata": {},
   "outputs": [
    {
     "name": "stdout",
     "output_type": "stream",
     "text": [
      "{'@V':{'in_': <pyorient.otypes.OrientBinaryObject object at 0x00000262BCFBFA58>, 'name': 'Arès', 'symbol': 'weapons'},'version':3,'rid':'#13:0'}\n",
      "{'@V':{'name': 'Athena', 'symbol': 'helmet', 'in_': <pyorient.otypes.OrientBinaryObject object at 0x00000262BCFBF8D0>},'version':2,'rid':'#12:0'}\n"
     ]
    }
   ],
   "source": [
    "for vertex in client.command(\"SELECT EXPAND(in) FROM E WHERE kind = 'father'\"):\n",
    "    print(vertex)"
   ]
  },
  {
   "cell_type": "markdown",
   "metadata": {},
   "source": [
    "**Q:** As in SQL, the operator `in` used in a clause `where` allows to restrict the possible values with an embedded query _(where ... in (select ...))_. \n",
    "\n",
    "Display the mothers, by displaying the vertices where an outgoing arc is part of the arcs where kind is a mother."
   ]
  },
  {
   "cell_type": "code",
   "execution_count": 23,
   "metadata": {},
   "outputs": [
    {
     "name": "stdout",
     "output_type": "stream",
     "text": [
      "{'@V':{'out_': <pyorient.otypes.OrientBinaryObject object at 0x00000262BCFBFF28>, 'name': 'Héra', 'symbol': 'tiara', 'in_': <pyorient.otypes.OrientBinaryObject object at 0x00000262BCFBF9B0>},'version':4,'rid':'#10:0'}\n"
     ]
    }
   ],
   "source": [
    "for vertex in client.command(\"SELECT EXPAND(out) FROM E WHERE kind = 'mother'\"):\n",
    "    print(vertex)"
   ]
  },
  {
   "cell_type": "markdown",
   "metadata": {},
   "source": [
    "**Q:** Display the brothers and sisters of Zeus (the destination summits of an arc whose kind is sibling and whose original summit is Zeus)."
   ]
  },
  {
   "cell_type": "code",
   "execution_count": 24,
   "metadata": {},
   "outputs": [
    {
     "name": "stdout",
     "output_type": "stream",
     "text": [
      "{'@V':{'name': 'Poséidon', 'symbol': 'trident', 'in_': <pyorient.otypes.OrientBinaryObject object at 0x00000262BCFBF390>, 'out_': <pyorient.otypes.OrientBinaryObject object at 0x00000262BCFBFF98>},'version':3,'rid':'#11:0'}\n",
      "{'@V':{'name': 'Héra', 'out_': <pyorient.otypes.OrientBinaryObject object at 0x00000262BCFBF048>, 'symbol': 'tiara', 'in_': <pyorient.otypes.OrientBinaryObject object at 0x00000262BCFBFD30>},'version':4,'rid':'#10:0'}\n"
     ]
    }
   ],
   "source": [
    "for vertex in client.command(\"SELECT EXPAND(in) FROM E WHERE kind = 'sibling' AND out.name = 'Zeus'\"):\n",
    "    print(vertex)"
   ]
  },
  {
   "cell_type": "markdown",
   "metadata": {},
   "source": [
    "## Modeling a Product Recommendation System"
   ]
  },
  {
   "cell_type": "markdown",
   "metadata": {},
   "source": [
    "You are currently modeling the data of a product recommendation system with OrientDB.\n",
    "\n",
    "The main purpose of such a system is to answer the question \"which products were purchased by their people who purchased product X? »\n",
    "\n",
    "Purchased products have only one name field. They are purchased by people who have a nickname.\n",
    "\n",
    "When a person buys a product, the date of purchase is stored. \n",
    "\n",
    "Instead of working with \"anonymous\" vertices and arcs, you will use classes. The `create class` command allows you to create custom classes.\n",
    "\n",
    "The vertex classes must extend V, the arc classes must extend E."
   ]
  },
  {
   "cell_type": "markdown",
   "metadata": {},
   "source": [
    "**Q:** Create an `eCommerce` database, and the necessary classes to model the system.\n",
    "\n",
    "PS : you can view all classes in the database with :\n",
    "\n",
    "```python\n",
    "for name in client.command(\"SELECT name FROM (SELECT expand(classes) FROM metadata:schema)\"):\n",
    "    print(name)\n",
    "```"
   ]
  },
  {
   "cell_type": "code",
   "execution_count": null,
   "metadata": {},
   "outputs": [],
   "source": [
    "client.db_create(\"eCommerce\", pyorient.DB_TYPE_GRAPH, pyorient.STORAGE_TYPE_MEMORY)\n",
    "client.db_open(\"eCommerce\", \"root\", ROOT_PASSWORD)\n",
    "\n",
    "client.command(\"CREATE CLASS CUSTUMER EXTENDS V\")\n",
    "client.command(\"CREATE CLASS PRODUCT EXTENDS V\")\n",
    "client.command(\"CREATE CLASS PURCHASE EXTENDS E\")"
   ]
  },
  {
   "cell_type": "markdown",
   "metadata": {},
   "source": [
    "**Q:** Create the following products: `spaghetti`, `bolognese sauce`, `cheese`, `apple`."
   ]
  },
  {
   "cell_type": "code",
   "execution_count": null,
   "metadata": {},
   "outputs": [],
   "source": []
  },
  {
   "cell_type": "markdown",
   "metadata": {},
   "source": [
    "**Q:** Create the following people: `peter`, `meredith`."
   ]
  },
  {
   "cell_type": "code",
   "execution_count": null,
   "metadata": {},
   "outputs": [],
   "source": []
  },
  {
   "cell_type": "markdown",
   "metadata": {},
   "source": [
    "**Q:** Create the following purchases: \n",
    "- peter > spaghetti + cheese on 20/01/2016 \n",
    "- meredith > cheese + apple + bolognese sauce on 22/01/2016\n",
    "- peter > spaghetti + bolognese sauce on 27/01/2016\n"
   ]
  },
  {
   "cell_type": "code",
   "execution_count": null,
   "metadata": {},
   "outputs": [],
   "source": []
  },
  {
   "cell_type": "markdown",
   "metadata": {},
   "source": [
    "**Q:** Who bought Bolognese sauce?"
   ]
  },
  {
   "cell_type": "code",
   "execution_count": null,
   "metadata": {},
   "outputs": [],
   "source": []
  },
  {
   "cell_type": "markdown",
   "metadata": {},
   "source": [
    "**Q:** It is possible to link the `out` and `in` navigation functions. What products are purchased with Bolognese sauce? "
   ]
  },
  {
   "cell_type": "code",
   "execution_count": null,
   "metadata": {},
   "outputs": [],
   "source": []
  },
  {
   "cell_type": "markdown",
   "metadata": {},
   "source": [
    "## Postquisites"
   ]
  },
  {
   "cell_type": "markdown",
   "metadata": {},
   "source": [
    "Since we create databases in memory, they get destroyed on server shutdown."
   ]
  }
 ],
 "metadata": {
  "kernelspec": {
   "display_name": "env_nosql2",
   "language": "python",
   "name": "python3"
  },
  "language_info": {
   "codemirror_mode": {
    "name": "ipython",
    "version": 3
   },
   "file_extension": ".py",
   "mimetype": "text/x-python",
   "name": "python",
   "nbconvert_exporter": "python",
   "pygments_lexer": "ipython3",
   "version": "3.7.0"
  }
 },
 "nbformat": 4,
 "nbformat_minor": 2
}
